{
 "cells": [
  {
   "cell_type": "code",
   "execution_count": null,
   "metadata": {},
   "outputs": [],
   "source": [
    "import pandas as pd\n",
    "\n",
    "pd.set_option(\"display.max_columns\", None)\n",
    "import numpy as np\n",
    "import seaborn as sns\n",
    "import matplotlib.pyplot as plt\n",
    "\n",
    "plt.rcParams[\"font.family\"] = \"Malgun Gothic\"\n",
    "plt.rcParams[\"axes.unicode_minus\"] = False\n",
    "\n",
    "df = pd.read_csv(\"./data/dataset.csv\")"
   ]
  },
  {
   "cell_type": "code",
   "execution_count": null,
   "metadata": {},
   "outputs": [],
   "source": [
    "from sklearn.model_selection import train_test_split\n",
    "\n",
    "train, test = train_test_split(df.iloc[:, 1:].dropna(), test_size=0.2)"
   ]
  },
  {
   "cell_type": "code",
   "execution_count": null,
   "metadata": {},
   "outputs": [],
   "source": [
    "from autogluon.tabular import TabularDataset, TabularPredictor\n",
    "\n",
    "predictor = TabularPredictor(\n",
    "    label=\"passorfail\", eval_metric=\"f1_macro\", path=\"./Models\"\n",
    ").fit(train, presets=\"best\")"
   ]
  },
  {
   "cell_type": "code",
   "execution_count": null,
   "metadata": {},
   "outputs": [],
   "source": [
    "from sklearn.metrics import confusion_matrix, ConfusionMatrixDisplay\n",
    "\n",
    "y_pred = predictor.predict(test.iloc[:, :-1])\n",
    "\n",
    "cm = confusion_matrix(test.iloc[:, -1], y_pred)\n",
    "\n",
    "# 혼돈 행렬 시각화\n",
    "disp = ConfusionMatrixDisplay(confusion_matrix=cm)\n",
    "disp.plot(cmap=\"Blues\")\n",
    "plt.show()"
   ]
  },
  {
   "cell_type": "code",
   "execution_count": null,
   "metadata": {},
   "outputs": [],
   "source": [
    "from sklearn.ensemble import RandomForestClassifier, ExtraTreesClassifier\n",
    "from xgboost import XGBClassifier\n",
    "from catboost import CatBoostClassifier\n",
    "from lightgbm import LGBMClassifier\n",
    "\n",
    "rfc = RandomForestClassifier()\n",
    "etc = ExtraTreesClassifier()\n",
    "xgb = XGBClassifier()\n",
    "cat = CatBoostClassifier()\n",
    "lgbm = LGBMClassifier()\n",
    "\n",
    "rfc.fit(train.iloc[:, :-1], train.iloc[:, -1])\n",
    "etc.fit(train.iloc[:, :-1], train.iloc[:, -1])\n",
    "xgb.fit(train.iloc[:, :-1], train.iloc[:, -1])\n",
    "cat.fit(train.iloc[:, :-1], train.iloc[:, -1])\n",
    "lgbm.fit(train.iloc[:, :-1], train.iloc[:, -1])"
   ]
  },
  {
   "cell_type": "code",
   "execution_count": null,
   "metadata": {},
   "outputs": [],
   "source": [
    "from sklearn.metrics import roc_curve\n",
    "\n",
    "score1 = predictor.predict_proba(train.iloc[:, :-1]).iloc[:, 1]\n",
    "score2 = rfc.predict_proba(train.iloc[:, :-1])[:, 1]\n",
    "score3 = etc.predict_proba(train.iloc[:, :-1])[:, 1]\n",
    "score4 = xgb.predict_proba(train.iloc[:, :-1])[:, 1]\n",
    "score5 = cat.predict_proba(train.iloc[:, :-1])[:, 1]\n",
    "score6 = lgbm.predict_proba(train.iloc[:, :-1])[:, 1]\n",
    "\n",
    "\n",
    "## False Positive Rate, True Positive Rate, 절단값 리턴\n",
    "fpr1, tpr1, cut1 = roc_curve(train.iloc[:, -1], score1)\n",
    "fpr2, tpr2, cut2 = roc_curve(train.iloc[:, -1], score2)\n",
    "fpr3, tpr3, cut3 = roc_curve(train.iloc[:, -1], score3)\n",
    "fpr4, tpr4, cut4 = roc_curve(train.iloc[:, -1], score4)\n",
    "fpr5, tpr5, cut5 = roc_curve(train.iloc[:, -1], score5)\n",
    "fpr6, tpr6, cut6 = roc_curve(train.iloc[:, -1], score6)\n",
    "\n",
    "## ROC 곡선 그리기\n",
    "fig = plt.figure(figsize=(8, 8))\n",
    "fig.set_facecolor(\"white\")\n",
    "ax = fig.add_subplot()\n",
    "ax.plot(fpr1, tpr1, label=\"AutoGluon\")\n",
    "ax.plot(fpr2, tpr2, label=\"RandomForest\")\n",
    "ax.plot(fpr3, tpr3, label=\"ExtraTrees\")\n",
    "ax.plot(fpr4, tpr4, label=\"XGBoost\")\n",
    "ax.plot(fpr5, tpr5, label=\"Catboost\")\n",
    "ax.plot(fpr6, tpr6, label=\"LightGBM\")\n",
    "ax.plot([0, 1], [0, 1], color=\"red\", label=\"Random Model\")\n",
    "ax.legend()\n",
    "plt.show()"
   ]
  },
  {
   "cell_type": "code",
   "execution_count": null,
   "metadata": {},
   "outputs": [],
   "source": [
    "predictor.feature_importance(train)"
   ]
  },
  {
   "cell_type": "code",
   "execution_count": null,
   "metadata": {},
   "outputs": [],
   "source": []
  },
  {
   "cell_type": "code",
   "execution_count": null,
   "metadata": {},
   "outputs": [],
   "source": []
  },
  {
   "cell_type": "code",
   "execution_count": null,
   "metadata": {},
   "outputs": [],
   "source": []
  },
  {
   "cell_type": "code",
   "execution_count": null,
   "metadata": {},
   "outputs": [],
   "source": []
  }
 ],
 "metadata": {
  "language_info": {
   "name": "python"
  }
 },
 "nbformat": 4,
 "nbformat_minor": 2
}
