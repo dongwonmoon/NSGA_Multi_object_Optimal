{
 "cells": [
  {
   "cell_type": "markdown",
   "metadata": {},
   "source": [
    "# 최종 검사까지 데이터 병합"
   ]
  },
  {
   "cell_type": "code",
   "execution_count": 1,
   "metadata": {},
   "outputs": [],
   "source": [
    "import pandas as pd\n",
    "\n",
    "pd.set_option(\"display.max_columns\", None)\n",
    "import numpy as np\n",
    "import seaborn as sns\n",
    "import matplotlib.pyplot as plt\n",
    "\n",
    "plt.rcParams[\"font.family\"] = \"Malgun Gothic\"\n",
    "plt.rcParams[\"axes.unicode_minus\"] = False\n",
    "\n",
    "op_20 = pd.read_csv(\"./data/ABH csv/op20.csv\")\n",
    "op_30 = pd.read_csv(\"./data/ABH csv/op30.csv\")\n",
    "op_40S = pd.read_csv(\"./data/ABH csv/op40S.csv\")\n",
    "\n",
    "op_20.columns = op_20.columns + \"_op_20\"\n",
    "op_30.columns = op_30.columns + \"_op_30\""
   ]
  },
  {
   "cell_type": "code",
   "execution_count": 2,
   "metadata": {},
   "outputs": [],
   "source": [
    "# op_20, op_30 병합\n",
    "op_20_30_merged = pd.merge(\n",
    "    left=op_30, right=op_20, left_on=\"바코드1_op_30\", right_on=\"바코드1_op_20\"\n",
    ")\n",
    "\n",
    "merged_40_30_20 = pd.merge(\n",
    "    left=op_40S, right=op_20_30_merged, left_on=\"바코드\", right_on=\"바코드1_op_30\"\n",
    ")"
   ]
  },
  {
   "cell_type": "code",
   "execution_count": 3,
   "metadata": {},
   "outputs": [
    {
     "name": "stderr",
     "output_type": "stream",
     "text": [
      "C:\\Users\\MoonDongWon\\AppData\\Local\\Temp\\ipykernel_4968\\3919855630.py:2: DeprecationWarning: DataFrameGroupBy.apply operated on the grouping columns. This behavior is deprecated, and in a future version of pandas the grouping columns will be excluded from the operation. Either pass `include_groups=False` to exclude the groupings or explicitly select the grouping columns after groupby to silence this warning.\n",
      "  common_ids = merged_40_30_20[merged_40_30_20.duplicated(subset='바코드', keep=False)].groupby('바코드').apply(lambda x: x.index.tolist())\n"
     ]
    }
   ],
   "source": [
    "# 측정 오류로 재측정한 경우가 있습니다. 마지막 검사만을 남깁니다.\n",
    "common_ids = (\n",
    "    merged_40_30_20[merged_40_30_20.duplicated(subset=\"바코드\", keep=False)]\n",
    "    .groupby(\"바코드\")\n",
    "    .apply(lambda x: x.index.tolist())\n",
    ")\n",
    "\n",
    "indices_to_keep = [indices[-1] for indices in common_ids]\n",
    "\n",
    "final_indices = set(indices_to_keep) | set(\n",
    "    merged_40_30_20[~merged_40_30_20[\"바코드\"].duplicated(keep=False)].index\n",
    ")\n",
    "merged_40_30_20_deduped = merged_40_30_20.loc[list(final_indices)]"
   ]
  },
  {
   "cell_type": "code",
   "execution_count": 4,
   "metadata": {},
   "outputs": [],
   "source": [
    "rem_columns = [\"차종\", \"차종번호\", \"바코드\", \"판정\", \"판정_op_20\", \"판정_op_30\"]\n",
    "hv_ul_columns = [\n",
    "    \"전장\",\n",
    "    \"거리\",\n",
    "    \"캡간\",\n",
    "    \"좌1차피크\",\n",
    "    \"우1차피크\",\n",
    "    \"좌완료거리\",\n",
    "    \"우완료거리\",\n",
    "]\n",
    "\n",
    "op_20_to_40 = merged_40_30_20_deduped.loc[\n",
    "    :,\n",
    "    rem_columns\n",
    "    + [\n",
    "        col + ul + op\n",
    "        for op in (\"_op_20\", \"_op_30\")\n",
    "        for col in hv_ul_columns\n",
    "        for ul in (\"상한\", \"\", \"하한\")\n",
    "    ],\n",
    "]\n",
    "\n",
    "df = op_20_to_40.loc[:, op_20_to_40.columns.difference([\"차종\", \"바코드\"])].copy()\n",
    "\n",
    "df[\"판정\"] = df[\"판정\"].apply(lambda x: 1 if x == \"합격\" else 0)\n",
    "df[\"판정_op_20\"] = df[\"판정_op_20\"].apply(lambda x: 1 if x == \"합격\" else 0)\n",
    "df[\"판정_op_30\"] = df[\"판정_op_30\"].apply(lambda x: 1 if x == \"합격\" else 0)"
   ]
  },
  {
   "cell_type": "code",
   "execution_count": null,
   "metadata": {},
   "outputs": [],
   "source": [
    "df.to_csv(\"./data/op_20_to_40S.csv\", index=False)"
   ]
  },
  {
   "cell_type": "code",
   "execution_count": null,
   "metadata": {},
   "outputs": [],
   "source": []
  },
  {
   "cell_type": "code",
   "execution_count": null,
   "metadata": {},
   "outputs": [],
   "source": []
  },
  {
   "cell_type": "code",
   "execution_count": null,
   "metadata": {},
   "outputs": [],
   "source": []
  },
  {
   "cell_type": "code",
   "execution_count": null,
   "metadata": {},
   "outputs": [],
   "source": []
  },
  {
   "cell_type": "code",
   "execution_count": null,
   "metadata": {},
   "outputs": [],
   "source": []
  },
  {
   "cell_type": "code",
   "execution_count": null,
   "metadata": {},
   "outputs": [],
   "source": []
  },
  {
   "cell_type": "code",
   "execution_count": null,
   "metadata": {},
   "outputs": [],
   "source": []
  },
  {
   "cell_type": "code",
   "execution_count": null,
   "metadata": {},
   "outputs": [],
   "source": []
  },
  {
   "cell_type": "code",
   "execution_count": null,
   "metadata": {},
   "outputs": [],
   "source": []
  }
 ],
 "metadata": {
  "kernelspec": {
   "display_name": "manuf_cmp",
   "language": "python",
   "name": "python3"
  },
  "language_info": {
   "codemirror_mode": {
    "name": "ipython",
    "version": 3
   },
   "file_extension": ".py",
   "mimetype": "text/x-python",
   "name": "python",
   "nbconvert_exporter": "python",
   "pygments_lexer": "ipython3",
   "version": "3.9.21"
  }
 },
 "nbformat": 4,
 "nbformat_minor": 2
}
