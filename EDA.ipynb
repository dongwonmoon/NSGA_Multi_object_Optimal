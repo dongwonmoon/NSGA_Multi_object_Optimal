{
 "cells": [
  {
   "cell_type": "code",
   "execution_count": null,
   "metadata": {},
   "outputs": [],
   "source": [
    "import pandas as pd\n",
    "\n",
    "pd.set_option(\"display.max_columns\", None)\n",
    "import numpy as np\n",
    "import seaborn as sns\n",
    "import matplotlib.pyplot as plt\n",
    "\n",
    "plt.rcParams[\"font.family\"] = \"Malgun Gothic\"\n",
    "plt.rcParams[\"axes.unicode_minus\"] = False\n",
    "\n",
    "df = pd.read_csv(\"./data/dataset.csv\")"
   ]
  },
  {
   "cell_type": "markdown",
   "metadata": {},
   "source": [
    "# EDA\n"
   ]
  },
  {
   "cell_type": "code",
   "execution_count": null,
   "metadata": {},
   "outputs": [],
   "source": [
    "plt.figure(figsize=(15, 20))\n",
    "sns.heatmap(df.iloc[:, 1:-1].corr(), annot=True)"
   ]
  },
  {
   "cell_type": "code",
   "execution_count": null,
   "metadata": {},
   "outputs": [],
   "source": [
    "def remove_outliers(df, factor=1.5):\n",
    "    df_filtered = df.copy()  # 원본 데이터 보호를 위한 복사본 생성\n",
    "    for col in df_filtered.select_dtypes(\n",
    "        include=\"float\"\n",
    "    ).columns:  # 숫자형 컬럼에 대해서만 적용\n",
    "        Q1 = df_filtered[col].quantile(0.25)  # 1사분위수\n",
    "        Q3 = df_filtered[col].quantile(0.75)  # 3사분위수\n",
    "        IQR = Q3 - Q1  # IQR 계산\n",
    "        lower_bound = Q1 - factor * IQR  # 하한 기준 (1.5 * IQR)\n",
    "        upper_bound = Q3 + factor * IQR  # 상한 기준 (1.5 * IQR)\n",
    "        # 하한과 상한을 벗어난 값들을 제거\n",
    "        df_filtered = df_filtered[\n",
    "            (df_filtered[col] >= lower_bound) & (df_filtered[col] <= upper_bound)\n",
    "        ]\n",
    "    return df_filtered\n",
    "\n",
    "\n",
    "# 이상치 제거 후 데이터프레임\n",
    "df_clean = remove_outliers(df.iloc[:, -5:])"
   ]
  },
  {
   "cell_type": "code",
   "execution_count": null,
   "metadata": {},
   "outputs": [],
   "source": [
    "tmp = df_clean.sample(frac=0.1)\n",
    "x_vars = tmp.columns[:-1]\n",
    "y_vars = tmp.columns[:-1]\n",
    "n_rows = len(x_vars)\n",
    "n_cols = len(y_vars)\n",
    "\n",
    "# Set up the matplotlib figure and axes\n",
    "fig, axes = plt.subplots(\n",
    "    n_rows, n_cols, figsize=(5 * n_cols, 5 * n_rows), squeeze=False\n",
    ")\n",
    "\n",
    "# Loop through each subplot (grid defined by x_vars vs y_vars)\n",
    "for i, x in enumerate(x_vars):\n",
    "    for j, y in enumerate(y_vars):\n",
    "        ax = axes[i, j]\n",
    "        # Scatter plot with hue by \"차종번호\"\n",
    "        sns.scatterplot(\n",
    "            data=tmp,\n",
    "            x=x,\n",
    "            y=y,\n",
    "            hue=\"passorfail\",\n",
    "            ax=ax,\n",
    "            palette=\"deep\",\n",
    "            alpha=0.6,\n",
    "            edgecolor=\"w\",\n",
    "            s=50,\n",
    "        )\n",
    "        # Overlay KDE plot to display density contours\n",
    "        # Adjust levels and linewidths as needed.\n",
    "        sns.kdeplot(\n",
    "            data=tmp,\n",
    "            x=x,\n",
    "            y=y,\n",
    "            ax=ax,\n",
    "            color=\"red\",\n",
    "            levels=5,\n",
    "            linewidths=1.5,\n",
    "            alpha=0.7,\n",
    "        )\n",
    "\n",
    "        ax.set_title(f\"{x} vs {y}\")\n",
    "\n",
    "# Adjust layout to prevent overlap\n",
    "plt.tight_layout()\n",
    "plt.show()"
   ]
  },
  {
   "cell_type": "code",
   "execution_count": null,
   "metadata": {},
   "outputs": [],
   "source": []
  },
  {
   "cell_type": "code",
   "execution_count": null,
   "metadata": {},
   "outputs": [],
   "source": []
  },
  {
   "cell_type": "code",
   "execution_count": null,
   "metadata": {},
   "outputs": [],
   "source": []
  },
  {
   "cell_type": "code",
   "execution_count": null,
   "metadata": {},
   "outputs": [],
   "source": []
  },
  {
   "cell_type": "code",
   "execution_count": null,
   "metadata": {},
   "outputs": [],
   "source": []
  },
  {
   "cell_type": "code",
   "execution_count": null,
   "metadata": {},
   "outputs": [],
   "source": []
  },
  {
   "cell_type": "code",
   "execution_count": null,
   "metadata": {},
   "outputs": [],
   "source": []
  }
 ],
 "metadata": {
  "language_info": {
   "name": "python"
  }
 },
 "nbformat": 4,
 "nbformat_minor": 2
}
